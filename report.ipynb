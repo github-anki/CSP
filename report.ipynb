{
 "metadata": {
  "language_info": {
   "codemirror_mode": {
    "name": "ipython",
    "version": 3
   },
   "file_extension": ".py",
   "mimetype": "text/x-python",
   "name": "python",
   "nbconvert_exporter": "python",
   "pygments_lexer": "ipython3",
   "version": "3.7.2"
  },
  "orig_nbformat": 2,
  "kernelspec": {
   "name": "python37232bitdbfb5128f7f74ef68eaa7ee00ddc0779",
   "display_name": "Python 3.7.2 32-bit"
  },
  "metadata": {
   "interpreter": {
    "hash": "3516c099f2e50fbe6b83d8aca3e7ba54c35d25f18189c7f24f96f469bdbc3fe7"
   }
  }
 },
 "nbformat": 4,
 "nbformat_minor": 2,
 "cells": [
  {
   "source": [
    "# Sztuczna inteligencja i inżynieria wiedzy\n",
    "## CSP\n",
    "## Laboratorium, 2020/2021\n",
    "### Anna Szymanek"
   ],
   "cell_type": "markdown",
   "metadata": {}
  },
  {
   "source": [
    "Celem ćwiczenia było Zapoznanie się z podstawowymi algorytmami stosowanymi do rozwiązywania problemów\n",
    "spełniania ograniczeń (ang. CSP) poprzez własną implementację rozwiązywania takich problemów i zbadanie jej właściwości.\n",
    "\n",
    "W ramach realizacji ćwiczenia zostały zaimplementowane:\n",
    "* klasy abstrakcyjne: CSP i Constraint  \n",
    "* klasy: Single-, Double-, MultipleConstraint.\n",
    "* klasy: Map i Zebra\n",
    "\n",
    "Zostały zbadane:\n",
    "* 2 klasy problemów: dla zagadki Einsteina i porblemu kolorowania mapy\n",
    "* 2 heurystyki: jedna do wyboru kolejnej zmiennej i druga do wyboru kolejnej wartości\n",
    "* algorytmy: backtrckingu, forward checkingu i AC-3.\n",
    "\n",
    "Przeprowadzone zostały również eksperymenty porównujące różne schematy podejścia do problemów, których wydajność została zmierzona na dwa sposoby: jako liczba odwiedzonych węzłów oraz czas znalezienia wszystkich rozwiązań."
   ],
   "cell_type": "markdown",
   "metadata": {}
  },
  {
   "cell_type": "code",
   "execution_count": 3,
   "metadata": {},
   "outputs": [
    {
     "output_type": "error",
     "ename": "ModuleNotFoundError",
     "evalue": "No module named '__main__.Map'; '__main__' is not a package",
     "traceback": [
      "\u001b[1;31m---------------------------------------------------------------------------\u001b[0m",
      "\u001b[1;31mModuleNotFoundError\u001b[0m                       Traceback (most recent call last)",
      "\u001b[1;32m<ipython-input-3-64d6f59cd2b9>\u001b[0m in \u001b[0;36m<module>\u001b[1;34m\u001b[0m\n\u001b[1;32m----> 1\u001b[1;33m \u001b[1;32mfrom\u001b[0m \u001b[1;33m.\u001b[0m\u001b[0mMap\u001b[0m \u001b[1;32mimport\u001b[0m \u001b[0mMap\u001b[0m\u001b[1;33m\u001b[0m\u001b[1;33m\u001b[0m\u001b[0m\n\u001b[0m\u001b[0;32m      2\u001b[0m \u001b[1;32mfrom\u001b[0m \u001b[1;33m.\u001b[0m\u001b[0mZebra\u001b[0m \u001b[1;32mimport\u001b[0m \u001b[0mZebra\u001b[0m\u001b[1;33m\u001b[0m\u001b[1;33m\u001b[0m\u001b[0m\n",
      "\u001b[1;31mModuleNotFoundError\u001b[0m: No module named '__main__.Map'; '__main__' is not a package"
     ]
    }
   ],
   "source": [
    "from .Map import Map\n",
    "from .Zebra import Zebra"
   ]
  },
  {
   "cell_type": "code",
   "execution_count": null,
   "metadata": {},
   "outputs": [],
   "source": []
  }
 ]
}