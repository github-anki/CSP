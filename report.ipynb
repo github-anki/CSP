{
 "cells": [
  {
   "cell_type": "markdown",
   "metadata": {},
   "source": [
    "# Sztuczna inteligencja i inżynieria wiedzy\n",
    "## CSP\n",
    "## Laboratorium, 2020/2021\n",
    "### Anna Szymanek"
   ]
  },
  {
   "cell_type": "markdown",
   "metadata": {},
   "source": [
    "Celem ćwiczenia było Zapoznanie się z podstawowymi algorytmami stosowanymi do rozwiązywania problemów\n",
    "spełniania ograniczeń (ang. CSP) poprzez własną implementację rozwiązywania takich problemów i zbadanie jej właściwości.\n",
    "\n",
    "W ramach realizacji ćwiczenia zostały zaimplementowane:\n",
    "* klasy abstrakcyjne: CSP i Constraint  \n",
    "* klasy: Single-, Double-, MultipleConstraint.\n",
    "* klasy: Map i Zebra\n",
    "\n",
    "Zostały zbadane:\n",
    "* 2 klasy problemów: dla zagadki Einsteina i porblemu kolorowania mapy\n",
    "* 2 heurystyki: jedna do wyboru kolejnej zmiennej i druga do wyboru kolejnej wartości\n",
    "* algorytmy: backtrckingu, forward checkingu i AC-3.\n",
    "\n",
    "Przeprowadzone zostały również eksperymenty porównujące różne schematy podejścia do problemów, których wydajność została zmierzona na dwa sposoby: jako liczba odwiedzonych węzłów oraz czas znalezienia wszystkich rozwiązań."
   ]
  },
  {
   "cell_type": "code",
   "execution_count": 7,
   "metadata": {},
   "outputs": [],
   "source": [
    "import matplotlib.pyplot as plt\n",
    "import pandas as pd"
   ]
  },
  {
   "cell_type": "code",
   "execution_count": 2,
   "metadata": {},
   "outputs": [],
   "source": [
    "df = pd.read_csv('results/map_experiment_results.csv')"
   ]
  },
  {
   "cell_type": "code",
   "execution_count": 9,
   "metadata": {},
   "outputs": [
    {
     "data": {
      "text/html": [
       "<div>\n",
       "<style scoped>\n",
       "    .dataframe tbody tr th:only-of-type {\n",
       "        vertical-align: middle;\n",
       "    }\n",
       "\n",
       "    .dataframe tbody tr th {\n",
       "        vertical-align: top;\n",
       "    }\n",
       "\n",
       "    .dataframe thead th {\n",
       "        text-align: right;\n",
       "    }\n",
       "</style>\n",
       "<table border=\"1\" class=\"dataframe\">\n",
       "  <thead>\n",
       "    <tr style=\"text-align: right;\">\n",
       "      <th></th>\n",
       "      <th>num_node</th>\n",
       "      <th>k</th>\n",
       "      <th>var_heuristic</th>\n",
       "      <th>domain_heuristic</th>\n",
       "      <th>forward_checking</th>\n",
       "      <th>iteration</th>\n",
       "      <th>solution</th>\n",
       "      <th>nodes_visited</th>\n",
       "      <th>time</th>\n",
       "    </tr>\n",
       "  </thead>\n",
       "  <tbody>\n",
       "    <tr>\n",
       "      <th>0</th>\n",
       "      <td>3</td>\n",
       "      <td>3</td>\n",
       "      <td>Simple Variable</td>\n",
       "      <td>Simple Value</td>\n",
       "      <td>False</td>\n",
       "      <td>0</td>\n",
       "      <td>6</td>\n",
       "      <td>16</td>\n",
       "      <td>0.000057</td>\n",
       "    </tr>\n",
       "    <tr>\n",
       "      <th>1</th>\n",
       "      <td>3</td>\n",
       "      <td>3</td>\n",
       "      <td>Simple Variable</td>\n",
       "      <td>Simple Value</td>\n",
       "      <td>False</td>\n",
       "      <td>1</td>\n",
       "      <td>6</td>\n",
       "      <td>16</td>\n",
       "      <td>0.000046</td>\n",
       "    </tr>\n",
       "    <tr>\n",
       "      <th>2</th>\n",
       "      <td>3</td>\n",
       "      <td>3</td>\n",
       "      <td>Simple Variable</td>\n",
       "      <td>Simple Value</td>\n",
       "      <td>False</td>\n",
       "      <td>2</td>\n",
       "      <td>6</td>\n",
       "      <td>16</td>\n",
       "      <td>0.000049</td>\n",
       "    </tr>\n",
       "    <tr>\n",
       "      <th>3</th>\n",
       "      <td>3</td>\n",
       "      <td>3</td>\n",
       "      <td>Simple Variable</td>\n",
       "      <td>Simple Value</td>\n",
       "      <td>False</td>\n",
       "      <td>3</td>\n",
       "      <td>6</td>\n",
       "      <td>16</td>\n",
       "      <td>0.000044</td>\n",
       "    </tr>\n",
       "    <tr>\n",
       "      <th>4</th>\n",
       "      <td>3</td>\n",
       "      <td>3</td>\n",
       "      <td>Simple Variable</td>\n",
       "      <td>Simple Value</td>\n",
       "      <td>False</td>\n",
       "      <td>4</td>\n",
       "      <td>6</td>\n",
       "      <td>16</td>\n",
       "      <td>0.000047</td>\n",
       "    </tr>\n",
       "    <tr>\n",
       "      <th>...</th>\n",
       "      <td>...</td>\n",
       "      <td>...</td>\n",
       "      <td>...</td>\n",
       "      <td>...</td>\n",
       "      <td>...</td>\n",
       "      <td>...</td>\n",
       "      <td>...</td>\n",
       "      <td>...</td>\n",
       "      <td>...</td>\n",
       "    </tr>\n",
       "    <tr>\n",
       "      <th>435</th>\n",
       "      <td>13</td>\n",
       "      <td>4</td>\n",
       "      <td>Most Constrained Variable</td>\n",
       "      <td>Least Constrained Value</td>\n",
       "      <td>False</td>\n",
       "      <td>0</td>\n",
       "      <td>720</td>\n",
       "      <td>34597</td>\n",
       "      <td>3.083987</td>\n",
       "    </tr>\n",
       "    <tr>\n",
       "      <th>436</th>\n",
       "      <td>13</td>\n",
       "      <td>4</td>\n",
       "      <td>Most Constrained Variable</td>\n",
       "      <td>Least Constrained Value</td>\n",
       "      <td>False</td>\n",
       "      <td>1</td>\n",
       "      <td>768</td>\n",
       "      <td>27949</td>\n",
       "      <td>2.455402</td>\n",
       "    </tr>\n",
       "    <tr>\n",
       "      <th>437</th>\n",
       "      <td>13</td>\n",
       "      <td>4</td>\n",
       "      <td>Most Constrained Variable</td>\n",
       "      <td>Least Constrained Value</td>\n",
       "      <td>False</td>\n",
       "      <td>2</td>\n",
       "      <td>480</td>\n",
       "      <td>41229</td>\n",
       "      <td>3.742645</td>\n",
       "    </tr>\n",
       "    <tr>\n",
       "      <th>438</th>\n",
       "      <td>13</td>\n",
       "      <td>4</td>\n",
       "      <td>Most Constrained Variable</td>\n",
       "      <td>Least Constrained Value</td>\n",
       "      <td>False</td>\n",
       "      <td>3</td>\n",
       "      <td>600</td>\n",
       "      <td>7589</td>\n",
       "      <td>0.648578</td>\n",
       "    </tr>\n",
       "    <tr>\n",
       "      <th>439</th>\n",
       "      <td>13</td>\n",
       "      <td>4</td>\n",
       "      <td>Most Constrained Variable</td>\n",
       "      <td>Least Constrained Value</td>\n",
       "      <td>False</td>\n",
       "      <td>4</td>\n",
       "      <td>1920</td>\n",
       "      <td>44625</td>\n",
       "      <td>3.868418</td>\n",
       "    </tr>\n",
       "  </tbody>\n",
       "</table>\n",
       "<p>440 rows × 9 columns</p>\n",
       "</div>"
      ],
      "text/plain": [
       "     num_node  k              var_heuristic         domain_heuristic  \\\n",
       "0           3  3            Simple Variable             Simple Value   \n",
       "1           3  3            Simple Variable             Simple Value   \n",
       "2           3  3            Simple Variable             Simple Value   \n",
       "3           3  3            Simple Variable             Simple Value   \n",
       "4           3  3            Simple Variable             Simple Value   \n",
       "..        ... ..                        ...                      ...   \n",
       "435        13  4  Most Constrained Variable  Least Constrained Value   \n",
       "436        13  4  Most Constrained Variable  Least Constrained Value   \n",
       "437        13  4  Most Constrained Variable  Least Constrained Value   \n",
       "438        13  4  Most Constrained Variable  Least Constrained Value   \n",
       "439        13  4  Most Constrained Variable  Least Constrained Value   \n",
       "\n",
       "     forward_checking  iteration  solution  nodes_visited      time  \n",
       "0               False          0         6             16  0.000057  \n",
       "1               False          1         6             16  0.000046  \n",
       "2               False          2         6             16  0.000049  \n",
       "3               False          3         6             16  0.000044  \n",
       "4               False          4         6             16  0.000047  \n",
       "..                ...        ...       ...            ...       ...  \n",
       "435             False          0       720          34597  3.083987  \n",
       "436             False          1       768          27949  2.455402  \n",
       "437             False          2       480          41229  3.742645  \n",
       "438             False          3       600           7589  0.648578  \n",
       "439             False          4      1920          44625  3.868418  \n",
       "\n",
       "[440 rows x 9 columns]"
      ]
     },
     "execution_count": 9,
     "metadata": {},
     "output_type": "execute_result"
    }
   ],
   "source": [
    "df"
   ]
  },
  {
   "cell_type": "code",
   "execution_count": 8,
   "metadata": {},
   "outputs": [
    {
     "data": {
      "image/png": "[encoded data removed]",
      "text/plain": [
       "<Figure size 432x288 with 1 Axes>"
      ]
     },
     "metadata": {
      "needs_background": "light"
     },
     "output_type": "display_data"
    }
   ],
   "source": [
    "df.groupby(['num_node']).aggregate({'nodes_visited': 'mean'}).plot()\n",
    "plt.show()"
   ]
  },
  {
   "cell_type": "code",
   "execution_count": 10,
   "metadata": {},
   "outputs": [
    {
     "data": {
      "image/png": "[encoded data removed]",
      "text/plain": [
       "<Figure size 432x288 with 1 Axes>"
      ]
     },
     "metadata": {
      "needs_background": "light"
     },
     "output_type": "display_data"
    }
   ],
   "source": [
    "df.groupby(['num_node']).aggregate({'time': 'mean'}).plot()\n",
    "plt.show()"
   ]
  }
 ],
 "metadata": {
  "kernelspec": {
   "display_name": "Python 3",
   "language": "python",
   "name": "python3"
  },
  "language_info": {
   "codemirror_mode": {
    "name": "ipython",
    "version": 3
   },
   "file_extension": ".py",
   "mimetype": "text/x-python",
   "name": "python",
   "nbconvert_exporter": "python",
   "pygments_lexer": "ipython3",
   "version": "3.7.4"
  },
  "metadata": {
   "interpreter": {
    "hash": "3516c099f2e50fbe6b83d8aca3e7ba54c35d25f18189c7f24f96f469bdbc3fe7"
   }
  }
 },
 "nbformat": 4,
 "nbformat_minor": 2
}
